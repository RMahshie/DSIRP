{
 "cells": [
  {
   "cell_type": "markdown",
   "metadata": {},
   "source": [
    "# Priority Queues and Heaps"
   ]
  },
  {
   "cell_type": "markdown",
   "metadata": {},
   "source": [
    "[Click here to run this chapter on Colab](https://colab.research.google.com/github/AllenDowney/DSIRP/blob/main/notebooks/heap.ipynb)"
   ]
  },
  {
   "cell_type": "markdown",
   "metadata": {},
   "source": [
    "## The `heapq` module\n",
    "\n",
    "The `heapq` module provides functions for adding and removing elements to and from a heap.\n",
    "\n"
   ]
  },
  {
   "cell_type": "code",
   "execution_count": 1,
   "metadata": {},
   "outputs": [],
   "source": [
    "from heapq import heappush, heappop"
   ]
  },
  {
   "cell_type": "markdown",
   "metadata": {},
   "source": [
    "The heap itself is literally a list, so if you create an empty list, you can think of it as a heap with no elements."
   ]
  },
  {
   "cell_type": "code",
   "execution_count": 2,
   "metadata": {},
   "outputs": [],
   "source": [
    "heap = []"
   ]
  },
  {
   "cell_type": "markdown",
   "metadata": {},
   "source": [
    "Then you can use `heappush` to add one element at a time."
   ]
  },
  {
   "cell_type": "code",
   "execution_count": 3,
   "metadata": {},
   "outputs": [
    {
     "data": {
      "text/plain": [
       "[1, 2, 3, 5, 7, 4, 6, 9, 8]"
      ]
     },
     "execution_count": 3,
     "metadata": {},
     "output_type": "execute_result"
    }
   ],
   "source": [
    "data = [4, 9, 3, 7, 5, 1, 6, 8, 2]\n",
    "\n",
    "for x in data:\n",
    "    heappush(heap, x)\n",
    "    \n",
    "heap"
   ]
  },
  {
   "cell_type": "markdown",
   "metadata": {},
   "source": [
    "The result is a list that represents a tree.\n",
    "Here's how the correspondence works between the list representation and the tree representation:\n",
    "\n",
    "* The first element (index 0) is the root.\n",
    "\n",
    "* The next two elements are the children of the root.\n",
    "\n",
    "* The next four element are the grandchildren of the root.\n",
    "\n",
    "And so on."
   ]
  },
  {
   "cell_type": "markdown",
   "metadata": {},
   "source": [
    "In general, if the index of an element is `i`, its parent is `(i-1)//2` and its children are `2*i + 1` and `2*i + 2`."
   ]
  },
  {
   "cell_type": "markdown",
   "metadata": {},
   "source": [
    "## Drawing the Tree\n",
    "\n",
    "To generate the tree representation of the heap, the following function iterates through the heap and makes a NetworkX graph with an edge between each node and its parent."
   ]
  },
  {
   "cell_type": "code",
   "execution_count": 4,
   "metadata": {},
   "outputs": [],
   "source": [
    "import networkx as nx\n",
    "\n",
    "def make_dag(heap):\n",
    "    \"\"\"Make a NetworkX graph that represents the heap.\"\"\"\n",
    "    G = nx.DiGraph()\n",
    "    \n",
    "    for i in range(1, len(heap)):\n",
    "        parent = (i-1)//2\n",
    "        G.add_edge(parent, i)\n",
    "    \n",
    "    return G"
   ]
  },
  {
   "cell_type": "code",
   "execution_count": 5,
   "metadata": {},
   "outputs": [],
   "source": [
    "G = make_dag(heap)"
   ]
  },
  {
   "cell_type": "markdown",
   "metadata": {},
   "source": [
    "To draw the tree, we'll use a module called `EoN` that provides a function called [hierarchy_pos](https://epidemicsonnetworks.readthedocs.io/en/latest/functions/EoN.hierarchy_pos.html#EoN.hierarchy_pos).\n",
    "\n",
    "It takes as a parameter a NetworkX graph that represents a tree, and it returns a dictionary that maps from each node to a position in the Cartesian plane.\n",
    "If we pass this dictionary to `nx.draw`, it lays the tree out accordingly."
   ]
  },
  {
   "cell_type": "code",
   "execution_count": 6,
   "metadata": {},
   "outputs": [],
   "source": [
    "try:\n",
    "    import EoN\n",
    "except ImportError:\n",
    "    !pip install EoN"
   ]
  },
  {
   "cell_type": "code",
   "execution_count": 7,
   "metadata": {},
   "outputs": [],
   "source": [
    "from EoN import hierarchy_pos\n",
    "\n",
    "def draw_heap(heap):\n",
    "    G = make_dag(heap)\n",
    "    pos = hierarchy_pos(G)\n",
    "    labels = dict(enumerate(heap))\n",
    "    nx.draw(G, pos, labels=labels, alpha=0.4)"
   ]
  },
  {
   "cell_type": "markdown",
   "metadata": {},
   "source": [
    "Here's what the tree representation looks like."
   ]
  },
  {
   "cell_type": "code",
   "execution_count": 10,
   "metadata": {},
   "outputs": [
    {
     "name": "stdout",
     "output_type": "stream",
     "text": [
      "['a', 'b', 'c', 'd', 'e', 'f']\n"
     ]
    },
    {
     "data": {
      "image/png": "[encoded data removed]",
      "text/plain": [
       "<Figure size 640x480 with 1 Axes>"
      ]
     },
     "metadata": {},
     "output_type": "display_data"
    }
   ],
   "source": [
    "ls = [\"a\", \"b\", \"c\", \"d\", \"e\", \"f\"]\n",
    "print(ls)\n",
    "draw_heap(ls)"
   ]
  },
  {
   "cell_type": "markdown",
   "metadata": {},
   "source": [
    "## The Heap Property\n",
    "\n",
    "If the list is a heap, the tree should have the heap property: \n",
    "\n",
    "> Every parent is less than or equal to its children.\n",
    "\n",
    "Or more formally:\n",
    "\n",
    "> For all pairs of nodes P and C, where P is the parent of C, the value of P must be less than or equal to the value of C.\n",
    "\n",
    "The following function checks whether this property is true for all nodes."
   ]
  },
  {
   "cell_type": "code",
   "execution_count": 9,
   "metadata": {},
   "outputs": [],
   "source": [
    "def is_heap(heap):\n",
    "    \"\"\"Check if a sequence has the heap property.\n",
    "    \n",
    "    Every child should be >= its parent.\n",
    "    \"\"\"\n",
    "    for i in range(1, len(heap)):\n",
    "        parent = (i-1) // 2\n",
    "        if heap[parent] > heap[i]:\n",
    "            return False\n",
    "    return True"
   ]
  },
  {
   "cell_type": "markdown",
   "metadata": {},
   "source": [
    "As we might hope, `heap` is a heap."
   ]
  },
  {
   "cell_type": "code",
   "execution_count": 10,
   "metadata": {},
   "outputs": [],
   "source": [
    "is_heap(heap)"
   ]
  },
  {
   "cell_type": "markdown",
   "metadata": {},
   "source": [
    "Here's a list of integers in no particular order, and as you might expect, it does not have the heap property."
   ]
  },
  {
   "cell_type": "code",
   "execution_count": 11,
   "metadata": {},
   "outputs": [],
   "source": [
    "data = [4, 9, 3, 7, 5, 1, 6, 8, 2]\n",
    "is_heap(data)"
   ]
  },
  {
   "cell_type": "markdown",
   "metadata": {},
   "source": [
    "## Using a Heap to Sort\n",
    "\n",
    "Given a heap, we can implement a sort algorithm called [heapsort](https://en.wikipedia.org/wiki/Heapsort). \n",
    "\n",
    "Let's start again with a fresh heap:"
   ]
  },
  {
   "cell_type": "code",
   "execution_count": 12,
   "metadata": {},
   "outputs": [],
   "source": [
    "heap = []\n",
    "for x in data:\n",
    "    heappush(heap, x)"
   ]
  },
  {
   "cell_type": "markdown",
   "metadata": {},
   "source": [
    "If we know that a list is a heap, we can use `heappop` to find and remove the smallest element."
   ]
  },
  {
   "cell_type": "code",
   "execution_count": 13,
   "metadata": {},
   "outputs": [],
   "source": [
    "heappop(heap)"
   ]
  },
  {
   "cell_type": "markdown",
   "metadata": {},
   "source": [
    "`heappop` rearranges the remaining elements of the list to restore the heap property (we'll see how soon). "
   ]
  },
  {
   "cell_type": "code",
   "execution_count": 14,
   "metadata": {},
   "outputs": [],
   "source": [
    "heap"
   ]
  },
  {
   "cell_type": "code",
   "execution_count": 15,
   "metadata": {},
   "outputs": [],
   "source": [
    "is_heap(heap)"
   ]
  },
  {
   "cell_type": "markdown",
   "metadata": {},
   "source": [
    "And that means we can use `heappop` again to get the second smallest element (of the original heap):"
   ]
  },
  {
   "cell_type": "code",
   "execution_count": 16,
   "metadata": {},
   "outputs": [],
   "source": [
    "heappop(heap)"
   ]
  },
  {
   "cell_type": "markdown",
   "metadata": {},
   "source": [
    "Which means we can use a heap to sort a list."
   ]
  },
  {
   "cell_type": "markdown",
   "metadata": {},
   "source": [
    "**Exercise:** Write a generator function called `heapsort` that takes an iterable and yields the elements of the iterable in increasing order. "
   ]
  },
  {
   "cell_type": "code",
   "execution_count": 17,
   "metadata": {},
   "outputs": [],
   "source": []
  },
  {
   "cell_type": "code",
   "execution_count": 18,
   "metadata": {},
   "outputs": [],
   "source": []
  },
  {
   "cell_type": "code",
   "execution_count": 19,
   "metadata": {},
   "outputs": [],
   "source": []
  },
  {
   "cell_type": "code",
   "execution_count": 20,
   "metadata": {},
   "outputs": [],
   "source": []
  },
  {
   "cell_type": "markdown",
   "metadata": {},
   "source": [
    "Now let's see how a heap is implemented.\n",
    "The two key methods are `push` and `pop`."
   ]
  },
  {
   "cell_type": "markdown",
   "metadata": {},
   "source": [
    "## Push\n",
    "\n",
    "To insert an element in a heap, you start by appending it to the list.\n",
    "\n",
    "The result is generally not a heap, so you have to do some work to restore the heap property:\n",
    "\n",
    "* If the new element is greater than or equal to its parent, you are done.\n",
    "\n",
    "* Otherwise swap the new element with its parent.\n",
    "\n",
    "* If the new element is greater than or equal to the parent's parent, you are done.\n",
    "\n",
    "* Otherwise swap the new element with its parent's parent.\n",
    "\n",
    "* And repeat, working your way up the tree, until you're done or you reach the root."
   ]
  },
  {
   "cell_type": "markdown",
   "metadata": {},
   "source": [
    "This process is called \"sift-up\" or sometimes [swim](https://en.wikipedia.org/wiki/Heap_(data_structure)#Implementation)."
   ]
  },
  {
   "cell_type": "markdown",
   "metadata": {},
   "source": [
    "**Exercise:** Write a function called `push` that does the same thing as `heappush`: it should take as parameters a list (which should be a heap) and a new element; it should add the new element to the list and restore the heap property."
   ]
  },
  {
   "cell_type": "code",
   "execution_count": 21,
   "metadata": {},
   "outputs": [],
   "source": []
  },
  {
   "cell_type": "markdown",
   "metadata": {},
   "source": [
    "You can use this example to test your code:"
   ]
  },
  {
   "cell_type": "code",
   "execution_count": 22,
   "metadata": {},
   "outputs": [],
   "source": [
    "heap = []\n",
    "for x in data:\n",
    "    push(heap, x)\n",
    "    assert is_heap(heap)\n",
    "\n",
    "heap"
   ]
  },
  {
   "cell_type": "code",
   "execution_count": 23,
   "metadata": {},
   "outputs": [],
   "source": [
    "is_heap(heap)"
   ]
  },
  {
   "cell_type": "markdown",
   "metadata": {},
   "source": [
    "## Pop\n",
    "\n",
    "To remove an element from the heap, you:\n",
    "\n",
    "* Make a copy of the root element,\n",
    "\n",
    "* Pop the *last* element off the list and store it at the root.\n",
    "\n",
    "* Then you have to restore the heap property. If the new root is less than or equal to both of its children, you are done.\n",
    "\n",
    "* Otherwise, swap the parent with the smaller of its children.\n",
    "\n",
    "* Then repeat the process with the child you just replaced, and continue until you get to a leaf node.\n",
    "\n",
    "This process is called a \"sift-down\" or sometimes \"sink\"."
   ]
  },
  {
   "cell_type": "markdown",
   "metadata": {},
   "source": [
    "**Exercise:** Write a function called `pop` that does the same thing as `heappop`: it should remove the smallest element, restore the heap property, and return the smallest element.\n",
    "\n",
    "Hint: This one is tricky because you have to deal with several special cases."
   ]
  },
  {
   "cell_type": "code",
   "execution_count": 24,
   "metadata": {},
   "outputs": [],
   "source": []
  },
  {
   "cell_type": "code",
   "execution_count": 25,
   "metadata": {},
   "outputs": [],
   "source": [
    "heap = []\n",
    "for x in data:\n",
    "    heappush(heap, x)\n",
    "\n",
    "while heap:\n",
    "    print(pop(heap))\n",
    "    assert is_heap(heap)"
   ]
  },
  {
   "cell_type": "code",
   "execution_count": 26,
   "metadata": {},
   "outputs": [],
   "source": []
  },
  {
   "cell_type": "code",
   "execution_count": 27,
   "metadata": {},
   "outputs": [],
   "source": []
  },
  {
   "cell_type": "markdown",
   "metadata": {},
   "source": [
    "*Data Structures and Information Retrieval in Python*\n",
    "\n",
    "Copyright 2021 Allen Downey\n",
    "\n",
    "License: [Creative Commons Attribution-NonCommercial-ShareAlike 4.0 International](https://creativecommons.org/licenses/by-nc-sa/4.0/)"
   ]
  }
 ],
 "metadata": {
  "kernelspec": {
   "display_name": "Python 3.9.6 64-bit",
   "language": "python",
   "name": "python3"
  },
  "language_info": {
   "codemirror_mode": {
    "name": "ipython",
    "version": 3
   },
   "file_extension": ".py",
   "mimetype": "text/x-python",
   "name": "python",
   "nbconvert_exporter": "python",
   "pygments_lexer": "ipython3",
   "version": "3.9.6"
  },
  "vscode": {
   "interpreter": {
    "hash": "31f2aee4e71d21fbe5cf8b01ff0e069b9275f58929596ceb00d14d90e3e16cd6"
   }
  }
 },
 "nbformat": 4,
 "nbformat_minor": 1
}
