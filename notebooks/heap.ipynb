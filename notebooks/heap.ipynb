{
 "cells": [
  {
   "cell_type": "markdown",
   "metadata": {},
   "source": [
    "# Priority Queues and Heaps"
   ]
  },
  {
   "cell_type": "markdown",
   "metadata": {},
   "source": [
    "[Click here to run this chapter on Colab](https://colab.research.google.com/github/AllenDowney/DSIRP/blob/main/notebooks/heap.ipynb)"
   ]
  },
  {
   "cell_type": "markdown",
   "metadata": {},
   "source": [
    "## The `heapq` module\n",
    "\n",
    "The `heapq` module provides functions for adding and removing elements to and from a heap.\n",
    "\n"
   ]
  },
  {
   "cell_type": "code",
   "execution_count": 6,
   "metadata": {},
   "outputs": [],
   "source": [
    "from heapq import heappush, heappop"
   ]
  },
  {
   "cell_type": "markdown",
   "metadata": {},
   "source": [
    "The heap itself is literally a list, so if you create an empty list, you can think of it as a heap with no elements."
   ]
  },
  {
   "cell_type": "code",
   "execution_count": 7,
   "metadata": {},
   "outputs": [],
   "source": [
    "heap = []"
   ]
  },
  {
   "cell_type": "markdown",
   "metadata": {},
   "source": [
    "Then you can use `heappush` to add one element at a time."
   ]
  },
  {
   "cell_type": "code",
   "execution_count": 8,
   "metadata": {},
   "outputs": [
    {
     "data": {
      "text/plain": [
       "[1, 2, 3, 5, 7, 4, 6, 9, 8]"
      ]
     },
     "execution_count": 8,
     "metadata": {},
     "output_type": "execute_result"
    }
   ],
   "source": [
    "data = [4, 9, 3, 7, 5, 1, 6, 8, 2]\n",
    "\n",
    "for x in data:\n",
    "    heappush(heap, x)\n",
    "    \n",
    "heap"
   ]
  },
  {
   "cell_type": "markdown",
   "metadata": {},
   "source": [
    "The result is a list that represents a tree.\n",
    "Here's how the correspondence works between the list representation and the tree representation:\n",
    "\n",
    "* The first element (index 0) is the root.\n",
    "\n",
    "* The next two elements are the children of the root.\n",
    "\n",
    "* The next four element are the grandchildren of the root.\n",
    "\n",
    "And so on."
   ]
  },
  {
   "cell_type": "markdown",
   "metadata": {},
   "source": [
    "In general, if the index of an element is `i`, its parent is `(i-1)//2` and its children are `2*i + 1` and `2*i + 2`."
   ]
  },
  {
   "cell_type": "markdown",
   "metadata": {},
   "source": [
    "## Drawing the Tree\n",
    "\n",
    "To generate the tree representation of the heap, the following function iterates through the heap and makes a NetworkX graph with an edge between each node and its parent."
   ]
  },
  {
   "cell_type": "code",
   "execution_count": 9,
   "metadata": {},
   "outputs": [],
   "source": [
    "import networkx as nx\n",
    "\n",
    "def make_dag(heap):\n",
    "    \"\"\"Make a NetworkX graph that represents the heap.\"\"\"\n",
    "    G = nx.DiGraph()\n",
    "    \n",
    "    for i in range(1, len(heap)):\n",
    "        parent = (i-1)//2\n",
    "        G.add_edge(parent, i)\n",
    "    \n",
    "    return G"
   ]
  },
  {
   "cell_type": "code",
   "execution_count": 10,
   "metadata": {},
   "outputs": [],
   "source": [
    "G = make_dag(heap)"
   ]
  },
  {
   "cell_type": "markdown",
   "metadata": {},
   "source": [
    "To draw the tree, we'll use a module called `EoN` that provides a function called [hierarchy_pos](https://epidemicsonnetworks.readthedocs.io/en/latest/functions/EoN.hierarchy_pos.html#EoN.hierarchy_pos).\n",
    "\n",
    "It takes as a parameter a NetworkX graph that represents a tree, and it returns a dictionary that maps from each node to a position in the Cartesian plane.\n",
    "If we pass this dictionary to `nx.draw`, it lays the tree out accordingly."
   ]
  },
  {
   "cell_type": "code",
   "execution_count": 9,
   "metadata": {},
   "outputs": [],
   "source": [
    "try:\n",
    "    import EoN\n",
    "except ImportError:\n",
    "    !pip install EoN"
   ]
  },
  {
   "cell_type": "code",
   "execution_count": 11,
   "metadata": {},
   "outputs": [],
   "source": [
    "from EoN import hierarchy_pos\n",
    "\n",
    "def draw_heap(heap):\n",
    "    G = make_dag(heap)\n",
    "    pos = hierarchy_pos(G)\n",
    "    labels = dict(enumerate(heap))\n",
    "    nx.draw(G, pos, labels=labels, alpha=0.4)"
   ]
  },
  {
   "cell_type": "markdown",
   "metadata": {},
   "source": [
    "Here's what the tree representation looks like."
   ]
  },
  {
   "cell_type": "code",
   "execution_count": 16,
   "metadata": {},
   "outputs": [
    {
     "name": "stdout",
     "output_type": "stream",
     "text": [
      "[1, 2, 3, 5, 7, 6, 4, 8, 9]\n"
     ]
    },
    {
     "data": {
      "image/png": "[encoded data removed]",
      "text/plain": [
       "<Figure size 640x480 with 1 Axes>"
      ]
     },
     "metadata": {},
     "output_type": "display_data"
    }
   ],
   "source": [
    "import networkx as nx\n",
    "from EoN import hierarchy_pos\n",
    "\n",
    "\n",
    "\n",
    "class PQ:\n",
    "    \n",
    "\n",
    "    \"\"\"\n",
    "    >>> pq = new()\n",
    "    >>> pq.size()\n",
    "    0\n",
    "    \"\"\"\n",
    "\n",
    "    def __init__(self):\n",
    "        self.data = []\n",
    "\n",
    "    def __eq__(self, other):\n",
    "        return self.data == other.data\n",
    "\n",
    "    def size(self):\n",
    "        return len(self.data)\n",
    "\n",
    "\n",
    "def new():\n",
    "\n",
    "    \"\"\"\n",
    "    >>> pq = new()\n",
    "    >>> isinstance(pq, PQ)\n",
    "    True\n",
    "    >>> pq.size()\n",
    "    0\n",
    "    \"\"\"\n",
    "\n",
    "\n",
    "    return PQ()\n",
    "\n",
    "def insert(pq, value, Append = True):\n",
    "   \n",
    "    '''\n",
    "    >>> pq = new()\n",
    "    >>> insert(pq, 7)\n",
    "    [7]\n",
    "    >>> pq.size()\n",
    "    1\n",
    "    >>> insert(pq, 6)\n",
    "    [6, 7]\n",
    "    >>> pq.size()\n",
    "    2\n",
    "\n",
    "    '''\n",
    "    storage = 0\n",
    "    \n",
    "    if Append:\n",
    "        pq.data.append(value)\n",
    "    \n",
    "    valueI = pq.data.index(value)\n",
    "    parent = pq.data[(pq.data.index(value)-1)//2]\n",
    "    parentI = (pq.data.index(value)-1)//2\n",
    "    \n",
    "    if pq.data.index(value) == 0:\n",
    "        return pq.data\n",
    "    \n",
    "    elif value <= parent:\n",
    "        \n",
    "        pq.data[parentI], pq.data[valueI] =  pq.data[valueI], pq.data[parentI]\n",
    "        \n",
    "        insert(pq, value, False)\n",
    "    \n",
    "    return pq.data\n",
    "\n",
    "\n",
    "def dm(pq, value = -1, Assign = True):\n",
    "    \n",
    "    '''\n",
    "    >>> pq = new()\n",
    "    >>> insert(pq, 7)\n",
    "    [7]\n",
    "    >>> pq.size()\n",
    "    1\n",
    "    >>> insert(pq, 6)\n",
    "    [6, 7]\n",
    "    >>> insert(pq, 3)\n",
    "    [3, 7, 6]\n",
    "    >>> pq.size()\n",
    "    3\n",
    "    >>> dm(pq)\n",
    "    [6, 7]\n",
    "\n",
    "    '''\n",
    "\n",
    "    if value == -1:\n",
    "        value = pq.data[len(pq.data)-1]\n",
    "    \n",
    "    if Assign:\n",
    "        pq.data[0] = value\n",
    "        pq.data.pop()\n",
    "\n",
    "    leftParent = (pq.data.index(value)*2)+1\n",
    "    rightParent = (pq.data.index(value)*2)+2\n",
    "    \n",
    "\n",
    "    if (leftParent) < len(pq.data):\n",
    "        p1 = pq.data[(pq.data.index(value)*2)+1]\n",
    "        p1Index = (pq.data.index(value)*2)+1\n",
    "    if (rightParent) < len(pq.data):\n",
    "        p2 = pq.data[(pq.data.index(value)*2)+2]\n",
    "        p2Index = (pq.data.index(value)*2)+2\n",
    "    else:\n",
    "        return pq.data\n",
    "    \n",
    "    left = p1<p2\n",
    "\n",
    "    if value <= p1 and left:\n",
    "        return pq.data\n",
    "    elif left and (p1Index) < len(pq.data) :\n",
    "            pq.data[p1Index], pq.data[pq.data.index(value)] = pq.data[pq.data.index(value)], pq.data[p1Index]\n",
    "            dm(pq, value, False)\n",
    "    elif not left and (p2Index) < len(pq.data):\n",
    "        pq.data[p2Index], pq.data[pq.data.index(value)] = pq.data[pq.data.index(value)], pq.data[p2Index]\n",
    "        dm(pq, value, False)\n",
    "    else:\n",
    "        return pq.data\n",
    "\n",
    "def fm(pq):\n",
    "    \n",
    "    '''\n",
    "    >>> pq = new()\n",
    "    >>> insert(pq, 7)\n",
    "    [7]\n",
    "    >>> pq.size()\n",
    "    1\n",
    "    >>> insert(pq, 6)\n",
    "    [6, 7]\n",
    "    >>> insert(pq, 3)\n",
    "    [3, 7, 6]\n",
    "    >>> pq.size()\n",
    "    3\n",
    "    >>> dm(pq)\n",
    "    [6, 7]\n",
    "    >>> insert(pq, 3)\n",
    "    [3, 7, 6]\n",
    "    >>> fm(pq)\n",
    "    3\n",
    "    '''\n",
    "    return pq.data[0]\n",
    "    \n",
    "\n",
    "def heapSort(list):\n",
    "    for item in list:\n",
    "        insert(pq, item)\n",
    "    print(pq.data)\n",
    "        \n",
    "    \n",
    "\n",
    "def make_dag(heap):\n",
    "    \"\"\"Make a NetworkX graph that represents the heap.\"\"\"\n",
    "    G = nx.DiGraph()\n",
    "    \n",
    "    for i in range(1, len(heap)):\n",
    "        parent = (i-1)//2\n",
    "        G.add_edge(parent, i)\n",
    "    \n",
    "    return G\n",
    "\n",
    "\n",
    "def draw_heap(heap):\n",
    "    G = make_dag(heap)\n",
    "    pos = hierarchy_pos(G)\n",
    "    labels = dict(enumerate(heap))\n",
    "    nx.draw(G, pos, labels=labels, alpha=0.4)\n",
    "\n",
    "\n",
    "list = [2, 5, 6, 8, 7, 4, 3, 1, 9]\n",
    "pq = new()\n",
    "heapSort(list)\n",
    "draw_heap(pq.data)\n",
    "\n",
    "\n",
    "\n",
    "if __name__ == \"__main__\":\n",
    "    import doctest\n",
    "    doctest.testmod()"
   ]
  },
  {
   "cell_type": "markdown",
   "metadata": {},
   "source": [
    "## The Heap Property\n",
    "\n",
    "If the list is a heap, the tree should have the heap property: \n",
    "\n",
    "> Every parent is less than or equal to its children.\n",
    "\n",
    "Or more formally:\n",
    "\n",
    "> For all pairs of nodes P and C, where P is the parent of C, the value of P must be less than or equal to the value of C.\n",
    "\n",
    "The following function checks whether this property is true for all nodes."
   ]
  },
  {
   "cell_type": "code",
   "execution_count": 9,
   "metadata": {},
   "outputs": [],
   "source": [
    "def is_heap(heap):\n",
    "    \"\"\"Check if a sequence has the heap property.\n",
    "    \n",
    "    Every child should be >= its parent.\n",
    "    \"\"\"\n",
    "    for i in range(1, len(heap)):\n",
    "        parent = (i-1) // 2\n",
    "        if heap[parent] > heap[i]:\n",
    "            return False\n",
    "    return True"
   ]
  },
  {
   "cell_type": "markdown",
   "metadata": {},
   "source": [
    "As we might hope, `heap` is a heap."
   ]
  },
  {
   "cell_type": "code",
   "execution_count": 10,
   "metadata": {},
   "outputs": [
    {
     "data": {
      "text/plain": [
       "True"
      ]
     },
     "execution_count": 10,
     "metadata": {},
     "output_type": "execute_result"
    }
   ],
   "source": [
    "is_heap(heap)"
   ]
  },
  {
   "cell_type": "markdown",
   "metadata": {},
   "source": [
    "Here's a list of integers in no particular order, and as you might expect, it does not have the heap property."
   ]
  },
  {
   "cell_type": "code",
   "execution_count": 11,
   "metadata": {},
   "outputs": [
    {
     "data": {
      "text/plain": [
       "False"
      ]
     },
     "execution_count": 11,
     "metadata": {},
     "output_type": "execute_result"
    }
   ],
   "source": [
    "data = [4, 9, 3, 7, 5, 1, 6, 8, 2]\n",
    "is_heap(data)"
   ]
  },
  {
   "cell_type": "markdown",
   "metadata": {},
   "source": [
    "## Using a Heap to Sort\n",
    "\n",
    "Given a heap, we can implement a sort algorithm called [heapsort](https://en.wikipedia.org/wiki/Heapsort). \n",
    "\n",
    "Let's start again with a fresh heap:"
   ]
  },
  {
   "cell_type": "code",
   "execution_count": 12,
   "metadata": {},
   "outputs": [],
   "source": [
    "heap = []\n",
    "for x in data:\n",
    "    heappush(heap, x)"
   ]
  },
  {
   "cell_type": "markdown",
   "metadata": {},
   "source": [
    "If we know that a list is a heap, we can use `heappop` to find and remove the smallest element."
   ]
  },
  {
   "cell_type": "code",
   "execution_count": 13,
   "metadata": {},
   "outputs": [
    {
     "data": {
      "text/plain": [
       "1"
      ]
     },
     "execution_count": 13,
     "metadata": {},
     "output_type": "execute_result"
    }
   ],
   "source": [
    "heappop(heap)"
   ]
  },
  {
   "cell_type": "markdown",
   "metadata": {},
   "source": [
    "`heappop` rearranges the remaining elements of the list to restore the heap property (we'll see how soon). "
   ]
  },
  {
   "cell_type": "code",
   "execution_count": 14,
   "metadata": {},
   "outputs": [
    {
     "data": {
      "text/plain": [
       "[2, 5, 3, 8, 7, 4, 6, 9]"
      ]
     },
     "execution_count": 14,
     "metadata": {},
     "output_type": "execute_result"
    }
   ],
   "source": [
    "heap"
   ]
  },
  {
   "cell_type": "code",
   "execution_count": 15,
   "metadata": {},
   "outputs": [
    {
     "data": {
      "text/plain": [
       "True"
      ]
     },
     "execution_count": 15,
     "metadata": {},
     "output_type": "execute_result"
    }
   ],
   "source": [
    "is_heap(heap)"
   ]
  },
  {
   "cell_type": "markdown",
   "metadata": {},
   "source": [
    "And that means we can use `heappop` again to get the second smallest element (of the original heap):"
   ]
  },
  {
   "cell_type": "code",
   "execution_count": 16,
   "metadata": {},
   "outputs": [
    {
     "data": {
      "text/plain": [
       "2"
      ]
     },
     "execution_count": 16,
     "metadata": {},
     "output_type": "execute_result"
    }
   ],
   "source": [
    "heappop(heap)"
   ]
  },
  {
   "cell_type": "markdown",
   "metadata": {},
   "source": [
    "Which means we can use a heap to sort a list."
   ]
  },
  {
   "cell_type": "markdown",
   "metadata": {},
   "source": [
    "**Exercise:** Write a generator function called `heapsort` that takes an iterable and yields the elements of the iterable in increasing order. "
   ]
  },
  {
   "cell_type": "code",
   "execution_count": 17,
   "metadata": {},
   "outputs": [],
   "source": [
    "\n",
    "list = [1, 3, 20, 7, 9, 5, 4, 6, 8]\n",
    "def sorter(list):\n",
    "    heap = []\n",
    "    sorted = []\n",
    "    for x in list:\n",
    "        heappush(heap, x)\n",
    "    for y in range(len(list)):\n",
    "        sorted.append(heappop(heap))\n",
    "    return sorted\n",
    "    \n",
    "\n"
   ]
  },
  {
   "cell_type": "code",
   "execution_count": 18,
   "metadata": {},
   "outputs": [
    {
     "data": {
      "text/plain": [
       "[1, 3, 4, 5, 6, 7, 8, 9, 20]"
      ]
     },
     "execution_count": 18,
     "metadata": {},
     "output_type": "execute_result"
    }
   ],
   "source": [
    "sorter(list)"
   ]
  },
  {
   "cell_type": "code",
   "execution_count": null,
   "metadata": {},
   "outputs": [],
   "source": []
  },
  {
   "cell_type": "code",
   "execution_count": null,
   "metadata": {},
   "outputs": [],
   "source": []
  },
  {
   "cell_type": "markdown",
   "metadata": {},
   "source": [
    "Now let's see how a heap is implemented.\n",
    "The two key methods are `push` and `pop`."
   ]
  },
  {
   "cell_type": "markdown",
   "metadata": {},
   "source": [
    "## Push\n",
    "\n",
    "To insert an element in a heap, you start by appending it to the list.\n",
    "\n",
    "The result is generally not a heap, so you have to do some work to restore the heap property:\n",
    "\n",
    "* If the new element is greater than or equal to its parent, you are done.\n",
    "\n",
    "* Otherwise swap the new element with its parent.\n",
    "\n",
    "* If the new element is greater than or equal to the parent's parent, you are done.\n",
    "\n",
    "* Otherwise swap the new element with its parent's parent.\n",
    "\n",
    "* And repeat, working your way up the tree, until you're done or you reach the root."
   ]
  },
  {
   "cell_type": "markdown",
   "metadata": {},
   "source": [
    "This process is called \"sift-up\" or sometimes [swim](https://en.wikipedia.org/wiki/Heap_(data_structure)#Implementation)."
   ]
  },
  {
   "cell_type": "markdown",
   "metadata": {},
   "source": [
    "**Exercise:** Write a function called `push` that does the same thing as `heappush`: it should take as parameters a list (which should be a heap) and a new element; it should add the new element to the list and restore the heap property."
   ]
  },
  {
   "cell_type": "code",
   "execution_count": 19,
   "metadata": {},
   "outputs": [
    {
     "name": "stdout",
     "output_type": "stream",
     "text": [
      "before adding value  [2, 5, 6, 7, 8, 9, 10, 11]\n",
      "after adding value:  [2, 5, 6, 7, 8, 9, 10, 11, 3]\n",
      "value:  3\n",
      "parent:  7\n",
      "after swap:  [2, 5, 6, 3, 8, 9, 10, 11, 7]\n",
      "value:  3\n",
      "parent:  5\n",
      "after swap:  [2, 3, 6, 5, 8, 9, 10, 11, 7]\n",
      "value:  3\n",
      "parent:  2\n",
      "('Sorted Heap: ', [2, 3, 6, 5, 8, 9, 10, 11, 7])\n"
     ]
    },
    {
     "data": {
      "text/plain": [
       "True"
      ]
     },
     "execution_count": 19,
     "metadata": {},
     "output_type": "execute_result"
    }
   ],
   "source": [
    "heap = [2, 5, 6, 7, 8 , 9, 10, 11]\n",
    "\n",
    "def push(heap, value, Append):\n",
    "\n",
    "    storage = 0\n",
    "    \n",
    "    \n",
    "    if Append:\n",
    "        print(\"before adding value \", heap)\n",
    "        heap.append(value)\n",
    "        print(\"after adding value: \", heap)\n",
    "    \n",
    "    valueI = heap.index(value)\n",
    "    parent = heap[(heap.index(value)-1)//2]\n",
    "    parentI = (heap.index(value)-1)//2\n",
    "    \n",
    "    print(\"value: \", value)\n",
    "    print(\"parent: \", parent)\n",
    "    if heap.index(value) == 0:\n",
    "        return heap\n",
    "    \n",
    "    elif value <= parent:\n",
    "        \n",
    "        heap[parentI], heap[valueI] =  heap[valueI], heap[parentI]\n",
    "        \n",
    "        print(\"after swap: \", heap)\n",
    "        push(heap, value, False)\n",
    "    \n",
    "    return 'Sorted Heap: ', heap\n",
    "        \n",
    "    \n",
    "    \n",
    "print(push(heap, 3, True))\n",
    "is_heap(heap)"
   ]
  },
  {
   "cell_type": "code",
   "execution_count": 20,
   "metadata": {},
   "outputs": [
    {
     "name": "stdout",
     "output_type": "stream",
     "text": [
      "before adding value  [3, 5, 6, 7, 8, 9, 10, 11]\n",
      "after adding value:  [3, 5, 6, 7, 8, 9, 10, 11, 2]\n",
      "value:  2\n",
      "parent:  7\n",
      "after swap:  [3, 5, 6, 2, 8, 9, 10, 11, 7]\n",
      "value:  2\n",
      "parent:  5\n",
      "after swap:  [3, 2, 6, 5, 8, 9, 10, 11, 7]\n",
      "value:  2\n",
      "parent:  3\n",
      "after swap:  [2, 3, 6, 5, 8, 9, 10, 11, 7]\n",
      "value:  2\n",
      "parent:  7\n"
     ]
    }
   ],
   "source": [
    "heap = [3, 5, 6, 7, 8 , 9, 10, 11]\n",
    "\n",
    "def push(heap, value):\n",
    "\n",
    "    storage = 0\n",
    "    \n",
    "    print(\"before adding value \", heap)\n",
    "    \n",
    "    heap.append(value)\n",
    "    valueI = heap.index(value)\n",
    "    parent = heap[(heap.index(value)-1)//2]\n",
    "    \n",
    "    print(\"after adding value: \", heap)\n",
    "    print(\"value: \", value)\n",
    "    print(\"parent: \", parent)\n",
    "    \n",
    "    if value <= parent:\n",
    "        storage = parent\n",
    "        \n",
    "        heap[(heap.index(value)-1)//2] = value\n",
    "        \n",
    "        heap[valueI] = storage\n",
    "        \n",
    "        print(\"after swap: \", heap)\n",
    "\n",
    "        push1(heap, value)\n",
    "        \n",
    "    else:\n",
    "        return heap\n",
    "    \n",
    "\n",
    "def push1(heap, value):\n",
    "    \n",
    "    storage = 0\n",
    "    valueI = heap.index(value)\n",
    "    parent = heap[(heap.index(value)-1)//2]\n",
    "    \n",
    "    \n",
    "    print(\"value: \", value)\n",
    "    print(\"parent: \", parent)\n",
    "    if heap.index(value) == 0:\n",
    "        return heap\n",
    "    elif value <= parent:\n",
    "        storage = parent\n",
    "        \n",
    "        heap[(heap.index(value)-1)//2] = value\n",
    "        \n",
    "        heap[valueI] = storage\n",
    "        \n",
    "        print(\"after swap: \", heap)\n",
    "\n",
    "        push1(heap, value)\n",
    "        \n",
    "    else:\n",
    "        return heap\n",
    "    \n",
    "    \n",
    "\n",
    "\n",
    "\n",
    "push(heap, 2)\n",
    "    \n"
   ]
  },
  {
   "cell_type": "markdown",
   "metadata": {},
   "source": [
    "You can use this example to test your code:"
   ]
  },
  {
   "cell_type": "code",
   "execution_count": 21,
   "metadata": {},
   "outputs": [
    {
     "name": "stdout",
     "output_type": "stream",
     "text": [
      "before adding value  [2, 3, 6, 5, 8, 9, 10, 11, 7]\n",
      "after adding value:  [2, 3, 6, 5, 8, 9, 10, 11, 7, 4]\n",
      "value:  4\n",
      "parent:  8\n",
      "after swap:  [2, 3, 6, 5, 4, 9, 10, 11, 7, 8]\n",
      "value:  4\n",
      "parent:  3\n",
      "before adding value  [2, 3, 6, 5, 4, 9, 10, 11, 7, 8]\n",
      "after adding value:  [2, 3, 6, 5, 4, 9, 10, 11, 7, 8, 9]\n",
      "value:  9\n",
      "parent:  6\n",
      "before adding value  [2, 3, 6, 5, 4, 9, 10, 11, 7, 8, 9]\n",
      "after adding value:  [2, 3, 6, 5, 4, 9, 10, 11, 7, 8, 9, 3]\n",
      "value:  3\n",
      "parent:  2\n"
     ]
    },
    {
     "ename": "AssertionError",
     "evalue": "",
     "output_type": "error",
     "traceback": [
      "\u001b[0;31m---------------------------------------------------------------------------\u001b[0m",
      "\u001b[0;31mAssertionError\u001b[0m                            Traceback (most recent call last)",
      "Cell \u001b[0;32mIn [21], line 3\u001b[0m\n\u001b[1;32m      1\u001b[0m \u001b[39mfor\u001b[39;00m x \u001b[39min\u001b[39;00m data:\n\u001b[1;32m      2\u001b[0m     push(heap, x)\n\u001b[0;32m----> 3\u001b[0m     \u001b[39massert\u001b[39;00m is_heap(heap)\n\u001b[1;32m      5\u001b[0m heap\n",
      "\u001b[0;31mAssertionError\u001b[0m: "
     ]
    }
   ],
   "source": [
    "\n",
    "for x in data:\n",
    "    push(heap, x)\n",
    "    assert is_heap(heap)\n",
    "\n",
    "heap"
   ]
  },
  {
   "cell_type": "code",
   "execution_count": null,
   "metadata": {},
   "outputs": [
    {
     "data": {
      "text/plain": [
       "False"
      ]
     },
     "execution_count": 43,
     "metadata": {},
     "output_type": "execute_result"
    }
   ],
   "source": [
    "is_heap(heap)"
   ]
  },
  {
   "cell_type": "markdown",
   "metadata": {},
   "source": [
    "## Pop\n",
    "\n",
    "To remove an element from the heap, you:\n",
    "\n",
    "* Make a copy of the root element,\n",
    "\n",
    "* Pop the *last* element off the list and store it at the root.\n",
    "\n",
    "* Then you have to restore the heap property. If the new root is less than or equal to both of its children, you are done.\n",
    "\n",
    "* Otherwise, swap the parent with the smaller of its children.\n",
    "\n",
    "* Then repeat the process with the child you just replaced, and continue until you get to a leaf node.\n",
    "\n",
    "This process is called a \"sift-down\" or sometimes \"sink\"."
   ]
  },
  {
   "cell_type": "markdown",
   "metadata": {},
   "source": [
    "**Exercise:** Write a function called `pop` that does the same thing as `heappop`: it should remove the smallest element, restore the heap property, and return the smallest element.\n",
    "\n",
    "Hint: This one is tricky because you have to deal with several special cases."
   ]
  },
  {
   "cell_type": "code",
   "execution_count": 14,
   "metadata": {},
   "outputs": [
    {
     "name": "stdout",
     "output_type": "stream",
     "text": [
      "heap:  [3, 5, 6, 7, 8, 9, 10, 11]\n",
      "value:  11\n",
      "heap after setting first to value:  [11, 5, 6, 7, 8, 9, 10, 11]\n",
      "heap:  [11, 5, 6, 7, 8, 9, 10]\n",
      "value index:  0\n",
      "left parent 5\n",
      "right parent 6\n",
      "Swap Left? True\n",
      "\n",
      "heap:  [5, 11, 6, 7, 8, 9, 10]\n",
      "value index:  1\n",
      "left parent 7\n",
      "right parent 8\n",
      "Swap Left? True\n",
      "\n",
      "heap:  [5, 7, 6, 11, 8, 9, 10]\n",
      "value index:  3\n"
     ]
    }
   ],
   "source": [
    "##2*i + 2\n",
    "##2*i + 1\n",
    "heap = [3, 5, 6, 7, 8 , 9, 10, 11]\n",
    "\n",
    "\n",
    "def pop(heap, value=-1, Assign=True):\n",
    "    if value == -1:\n",
    "        value = heap[len(heap)-1]\n",
    "        \n",
    "    if Assign:\n",
    "        print(\"heap: \", heap)\n",
    "        print(\"value: \", value)\n",
    "        heap[0] = value\n",
    "        print(\"heap after setting first to value: \", heap)\n",
    "        heap.pop()\n",
    "    leftParent = (heap.index(value)*2)+1\n",
    "    rightParent = (heap.index(value)*2)+2\n",
    "    print(\"heap: \", heap)\n",
    "    print(\"value index: \",heap.index(value))\n",
    "    if (rightParent) < len(heap):\n",
    "        p2 = heap[(heap.index(value)*2)+2]\n",
    "        p2Index = rightParent\n",
    "        p1 = heap[(heap.index(value)*2)+1]\n",
    "        p1Index = leftParent\n",
    "    else:\n",
    "        return heap\n",
    "    print(\"left parent\", p1)\n",
    "    print(\"right parent\", p2)\n",
    "    print(\"Swap Left?\", p1<p2)\n",
    "    left = p1<p2\n",
    "    print()\n",
    "    if value <= p1 and left:\n",
    "        return heap\n",
    "    elif left and (p1Index) < len(heap) :\n",
    "            heap[p1Index], heap[heap.index(value)] = heap[heap.index(value)], heap[p1Index]\n",
    "            pop(heap, value, False)\n",
    "    elif not left and (p2Index) < len(heap):\n",
    "        heap[p2Index], heap[heap.index(value)] = heap[heap.index(value)], heap[p2Index]\n",
    "        pop(heap, value, False)\n",
    "    else:\n",
    "        return heap\n",
    "\n",
    "\n",
    "    \n",
    "pop(heap)\n"
   ]
  },
  {
   "cell_type": "code",
   "execution_count": null,
   "metadata": {},
   "outputs": [],
   "source": [
    "heap = []\n",
    "for x in data:\n",
    "    heappush(heap, x)\n",
    "\n",
    "while heap:\n",
    "    print(pop(heap))\n",
    "    assert is_heap(heap)"
   ]
  },
  {
   "cell_type": "code",
   "execution_count": 3,
   "metadata": {},
   "outputs": [],
   "source": [
    "heap = [1, 4, 2, 5, 8, 9, 3, 7, 6]\n",
    "\n"
   ]
  },
  {
   "cell_type": "code",
   "execution_count": null,
   "metadata": {},
   "outputs": [],
   "source": [
    "def pop(heap, value, Assign):\n",
    "    if Assign:\n",
    "        print(\"heap: \", heap)\n",
    "        print(\"value: \", value)\n",
    "        heap[0] = value\n",
    "        print(\"heap after setting first to value: \", heap)\n",
    "        heap.pop()\n",
    "    leftParent = (heap.index(value)*2)+1\n",
    "    rightParent = (heap.index(value)*2)+2\n",
    "    print(\"heap: \", heap)\n",
    "    print(\"value index: \",heap.index(value))\n",
    "    if (rightParent) < len(heap):\n",
    "        p2 = heap[(heap.index(value)*2)+2]\n",
    "        p2Index = rightParent\n",
    "        p1 = heap[(heap.index(value)*2)+1]\n",
    "        p1Index = leftParent\n",
    "    else:\n",
    "        return heap\n",
    "    print(\"left parent\", p1)\n",
    "    print(\"right parent\", p2)\n",
    "    print(\"Swap Left?\", p1<p2)\n",
    "    left = p1<p2\n",
    "    print()\n",
    "    if value <= p1 and left:\n",
    "        return heap\n",
    "    elif left and (p1Index) < len(heap) :\n",
    "            heap[p1Index], heap[heap.index(value)] = heap[heap.index(value)], heap[p1Index]\n",
    "            pop(heap, value, False)\n",
    "    elif not left and (p2Index) < len(heap):\n",
    "        heap[p2Index], heap[heap.index(value)] = heap[heap.index(value)], heap[p2Index]\n",
    "        pop(heap, value, False)\n",
    "    else:\n",
    "        return heap\n"
   ]
  },
  {
   "cell_type": "markdown",
   "metadata": {},
   "source": [
    "*Data Structures and Information Retrieval in Python*\n",
    "\n",
    "Copyright 2021 Allen Downey\n",
    "\n",
    "License: [Creative Commons Attribution-NonCommercial-ShareAlike 4.0 International](https://creativecommons.org/licenses/by-nc-sa/4.0/)"
   ]
  }
 ],
 "metadata": {
  "kernelspec": {
   "display_name": "Python 3.9.6 64-bit",
   "language": "python",
   "name": "python3"
  },
  "language_info": {
   "codemirror_mode": {
    "name": "ipython",
    "version": 3
   },
   "file_extension": ".py",
   "mimetype": "text/x-python",
   "name": "python",
   "nbconvert_exporter": "python",
   "pygments_lexer": "ipython3",
   "version": "3.9.6"
  },
  "vscode": {
   "interpreter": {
    "hash": "31f2aee4e71d21fbe5cf8b01ff0e069b9275f58929596ceb00d14d90e3e16cd6"
   }
  }
 },
 "nbformat": 4,
 "nbformat_minor": 1
}
